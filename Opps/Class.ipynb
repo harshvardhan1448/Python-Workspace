{
 "cells": [
  {
   "cell_type": "code",
   "execution_count": 3,
   "id": "c36ec4f5",
   "metadata": {},
   "outputs": [
    {
     "name": "stdout",
     "output_type": "stream",
     "text": [
      "Bruno\n",
      "5\n"
     ]
    }
   ],
   "source": [
    "#Instant variable methodes:\n",
    "class Dog:\n",
    "    #constructor\n",
    "    def __init__(self,name,age):\n",
    "        self.name=name\n",
    "        self.age=age\n",
    "\n",
    "dog1=Dog(\"Bruno\",5)\n",
    "print(dog1.name)\n",
    "print(dog1.age)"
   ]
  },
  {
   "cell_type": "code",
   "execution_count": 4,
   "id": "56665472",
   "metadata": {},
   "outputs": [
    {
     "name": "stdout",
     "output_type": "stream",
     "text": [
      "Bruno says woof\n"
     ]
    }
   ],
   "source": [
    "#Define a class with instant methode:\n",
    "\n",
    "class Dog:\n",
    "    def __init__ (self,name,age):\n",
    "        self.name=name\n",
    "        self.age=age\n",
    "    \n",
    "    def Bark(self):\n",
    "        print(f\"{self.name} says woof\")\n",
    "        \n",
    "dog1=Dog(\"Bruno\",5)\n",
    "dog1.Bark()"
   ]
  },
  {
   "cell_type": "code",
   "execution_count": 7,
   "id": "89b3c9de",
   "metadata": {},
   "outputs": [
    {
     "name": "stdout",
     "output_type": "stream",
     "text": [
      "Your balance is 1000\n",
      "500 deposited. New balace is 1500\n",
      "200 withdrawn. New balance is 1300\n",
      "Insufficient balance\n"
     ]
    }
   ],
   "source": [
    "class BankAccount:\n",
    "    def __init__(self,account_number,balance):\n",
    "        self.account_number=account_number\n",
    "        self.balance=balance\n",
    "    def deposite(self,ammount):\n",
    "        self.balance +=ammount\n",
    "        print(f\"{ammount} deposited. New balace is {self.balance}\")\n",
    "\n",
    "    def withdraw(self,ammount):\n",
    "        if ammount>self.balance:\n",
    "            print(\"Insufficient balance\")\n",
    "        else:\n",
    "            self.balance -=ammount\n",
    "            print(f\"{ammount} withdrawn. New balance is {self.balance}\")\n",
    "    \n",
    "    def check_balance(self):\n",
    "        print(f\"Your balance is {self.balance}\")\n",
    "\n",
    "account=BankAccount(\"123456\",1000)\n",
    "account.check_balance()\n",
    "account.deposite(500)\n",
    "account.withdraw(200)\n",
    "account.withdraw(2000)\n"
   ]
  },
  {
   "cell_type": "code",
   "execution_count": null,
   "id": "4021fce8",
   "metadata": {},
   "outputs": [],
   "source": [
    "class Cars:\n",
    "    def __init__(self,windows,doors,engine):\n",
    "        self.windows = windows\n",
    "        self.doors = doors\n",
    "        self.engine = engine\n",
    "\n",
    "    def Drive(self):\n",
    "        print(f\"The persoon is diving {self.engine} car\")\n",
    "\n",
    "\n",
    "class Tesla(Cars):\n",
    "    def __init__ (self,windows,doors,engine,is_autopilot):\n",
    "        super().__init__(windows,doors,engine)\n",
    "        self.is_autopilot=is_autopilot"
   ]
  },
  {
   "cell_type": "code",
   "execution_count": 1,
   "id": "7538e59f",
   "metadata": {},
   "outputs": [
    {
     "name": "stdout",
     "output_type": "stream",
     "text": [
      "vectors(6,8)\n",
      "vectors(-2,-2)\n",
      "vectors(8,15)\n",
      "vectors(2,3)\n",
      "vectors(4,5)\n"
     ]
    }
   ],
   "source": [
    "##Operator overloading ,making custum mathemetical operatiosn for our class\n",
    "class vectors:\n",
    "    def __init__(self,x,y):\n",
    "        self.x=x\n",
    "        self.y=y\n",
    "    \n",
    "    def __add__(self,others):\n",
    "        return vectors(self.x + others.x , self.y + others.y)\n",
    "    \n",
    "    def __sub__(self,others):\n",
    "        return vectors(self.x - others.x , self.y - others.y)\n",
    "    \n",
    "    def __mul__(self,others):\n",
    "        return vectors(self.x * others.x , self.y * others.y)\n",
    "    \n",
    "    def __repr__(self):\n",
    "        return f\"vectors({self.x},{self.y})\"\n",
    "    \n",
    "\n",
    "v1 = vectors(2,3)\n",
    "v2 = vectors(4,5)\n",
    "\n",
    "print(v1 + v2)\n",
    "print(v1 - v2)\n",
    "print(v1 * v2)\n",
    "print(v1)\n",
    "print(v2)"
   ]
  },
  {
   "cell_type": "code",
   "execution_count": null,
   "id": "0899c1f6",
   "metadata": {},
   "outputs": [],
   "source": []
  }
 ],
 "metadata": {
  "kernelspec": {
   "display_name": "Python 3",
   "language": "python",
   "name": "python3"
  },
  "language_info": {
   "codemirror_mode": {
    "name": "ipython",
    "version": 3
   },
   "file_extension": ".py",
   "mimetype": "text/x-python",
   "name": "python",
   "nbconvert_exporter": "python",
   "pygments_lexer": "ipython3",
   "version": "3.10.0"
  }
 },
 "nbformat": 4,
 "nbformat_minor": 5
}
